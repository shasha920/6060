{
 "cells": [
  {
   "cell_type": "markdown",
   "id": "5ecfaeb8",
   "metadata": {},
   "source": [
    "## ASCII Art Compression\n",
    "\n",
    "Use the \"encodeString\" and \"decodeString\" functions from the Chapter 4 challenge, provided below\n",
    "\n",
    "Read in the ASCII art text file 10_04_challenge_art.txt and write it back to a new file that has a smaller file size than the original file. \n",
    "For example, the original 10_04_challenge_art.txt has a file size of 2.757kB (or 2,757 ASCII characters).\n",
    "\n",
    "- Any compression is great!\n",
    "- Is there any way you could get this file to 1kb?\n",
    "- Less than 1kb?\n",
    "\n",
    "After compressing the file, make sure to check your work by opening and decoding it again!\n",
    "\n"
   ]
  },
  {
   "cell_type": "code",
   "execution_count": 25,
   "id": "0ec1174a",
   "metadata": {},
   "outputs": [],
   "source": [
    "import os\n",
    "\n",
    "def encodeString(stringVal):\n",
    "    encodedList = []\n",
    "    prevChar = None\n",
    "    count = 0\n",
    "    for char in stringVal:\n",
    "        if prevChar != char and prevChar is not None:\n",
    "            encodedList.append((prevChar, count))\n",
    "            count = 0\n",
    "        prevChar = char\n",
    "        count = count + 1\n",
    "    encodedList.append((prevChar, count))\n",
    "    return encodedList\n",
    "\n",
    "def decodeString(encodedList):\n",
    "    decodedStr = ''\n",
    "    for item in encodedList:\n",
    "        decodedStr = decodedStr + item[0] * item[1]\n",
    "    return decodedStr"
   ]
  },
  {
   "cell_type": "code",
   "execution_count": 26,
   "id": "9419d4f1",
   "metadata": {},
   "outputs": [],
   "source": [
    "def encodeFile(filename, newFilename):\n",
    "    # Read the original ASCII art file\n",
    "    with open(filename, \"r\") as file:\n",
    "        original_content = file.read()\n",
    "\n",
    "    # Encode the content\n",
    "    encoded_list = encodeString(original_content)\n",
    "\n",
    "    # Write the encoded content to a new file\n",
    "    with open(newFilename, \"w\") as file:\n",
    "        for item in encoded_list:\n",
    "            file.write(f\"{item[1]}{item[0]}\")\n",
    "\n",
    "def decodeFile(filename):\n",
    "    # Read the encoded file\n",
    "    with open(filename, \"r\") as file:\n",
    "        encoded_content = file.read()\n",
    "\n",
    "    decoded_list = []\n",
    "    i = 0\n",
    "    while i < len(encoded_content):\n",
    "        count = int(encoded_content[i])\n",
    "        char = encoded_content[i + 1]\n",
    "        decoded_list.append((char, count))\n",
    "        i += 2\n",
    "\n",
    "    decoded_content = decodeString(decoded_list)\n",
    "    return decoded_content\n",
    "\n"
   ]
  },
  {
   "cell_type": "code",
   "execution_count": 28,
   "id": "f64a0509-498b-4f04-a4c7-d705e187ef8a",
   "metadata": {},
   "outputs": [
    {
     "name": "stdout",
     "output_type": "stream",
     "text": [
      "Original file size: 2757\n"
     ]
    }
   ],
   "source": [
    "original_file_size = os.path.getsize(\"10_04_challenge_art.txt\")\n",
    "print(f'Original file size: {original_file_size}')"
   ]
  },
  {
   "cell_type": "code",
   "execution_count": 29,
   "id": "2b80973e-b856-47e8-ac45-d91e0e15395d",
   "metadata": {},
   "outputs": [],
   "source": [
    "encodeFile('10_04_challenge_art.txt', '10_04_challenge_art_encoded.txt')\n"
   ]
  },
  {
   "cell_type": "code",
   "execution_count": 30,
   "id": "5feadedf-e9cb-4f61-8f99-ff6cba462153",
   "metadata": {},
   "outputs": [
    {
     "name": "stdout",
     "output_type": "stream",
     "text": [
      "New file size: 542\n"
     ]
    }
   ],
   "source": [
    "new_file_size = os.path.getsize('10_04_challenge_art_encoded.txt')\n",
    "print(f'New file size: {new_file_size}')"
   ]
  },
  {
   "cell_type": "code",
   "execution_count": null,
   "id": "c7b9d795-70fb-4b9b-87c3-fd826acfe927",
   "metadata": {},
   "outputs": [],
   "source": []
  }
 ],
 "metadata": {
  "kernelspec": {
   "display_name": "Python 3 (ipykernel)",
   "language": "python",
   "name": "python3"
  },
  "language_info": {
   "codemirror_mode": {
    "name": "ipython",
    "version": 3
   },
   "file_extension": ".py",
   "mimetype": "text/x-python",
   "name": "python",
   "nbconvert_exporter": "python",
   "pygments_lexer": "ipython3",
   "version": "3.9.12"
  }
 },
 "nbformat": 4,
 "nbformat_minor": 5
}
