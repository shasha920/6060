{
 "cells": [
  {
   "cell_type": "markdown",
   "id": "522e4770",
   "metadata": {},
   "source": [
    "## Message Exceptions\n",
    "\n",
    "The SaveMessages class now has limited memory and should only be able to hold a maximum of 10 messages at once.\n",
    "\n",
    "This challenge has three parts, outlined in comments below. \n",
    "\n",
    "**\\# 1. Finish creating the TooManyMessagesException class**\n",
    "\n",
    "Fill in the TooManyMessagesException class. Add a custom message!\n",
    "\n",
    "**\\# 2. Raise a TooManyMessagesException exception here**\n",
    "\n",
    "Make sure that the SaveMessages class doesn't get over-full and raises an Exception if the max_messages limit is reached.\n",
    "\n",
    "**\\# 3. Catch a TooManyMessagesException and print the messages**\n",
    "\n",
    "Modify this code so that, if an exception is raised when the message is sent, the messages are printed out (emptying the message list) and the message is re-sent. Make sure to print out any remaining messages at the end!\n"
   ]
  },
  {
   "cell_type": "code",
   "execution_count": 4,
   "id": "4261d50d",
   "metadata": {},
   "outputs": [],
   "source": [
    "from datetime import datetime\n",
    "\n",
    "def getCurrentTime():\n",
    "    return datetime.now().strftime(\"%m-%d-%Y %H:%M:%S\")\n",
    "\n",
    "class Messenger:\n",
    "    def __init__(self, listeners=[]):\n",
    "        self.listeners = listeners\n",
    "    \n",
    "    def send(self, message):\n",
    "        for listener in self.listeners:\n",
    "            listener.receive(message)\n",
    "\n",
    "    def receive(self, message):\n",
    "        pass\n",
    "\n",
    "# 1. Finish creating the TooManyMessagesException class\n",
    "class TooManyMessagesException(Exception):\n",
    "    def __init__(self, message=\"Too many messages!\"):\n",
    "        super().__init__(message)\n",
    "\n",
    "class SaveMessages(Messenger):\n",
    "    def __init__(self, listeners=[]):\n",
    "        super().__init__(listeners)\n",
    "        self.messages = []\n",
    "        self.max_messages = 10\n",
    "        \n",
    "    def receive(self, message):\n",
    "        if len(self.messages) >= self.max_messages:\n",
    "            # 2. Raise a TooManyMessagesException exception here\n",
    "            raise TooManyMessagesException()\n",
    "        self.messages.append({'message': message, 'time': getCurrentTime()})\n",
    "        \n",
    "    def printMessages(self):\n",
    "        for m in self.messages:\n",
    "            print(f'Message: \"{m[\"message\"]}\" Time: {m[\"time\"]}')\n",
    "        self.messages = []\n"
   ]
  },
  {
   "cell_type": "code",
   "execution_count": 5,
   "id": "d4a45805",
   "metadata": {},
   "outputs": [],
   "source": [
    "listener = SaveMessages()\n",
    "sender = Messenger([listener])"
   ]
  },
  {
   "cell_type": "code",
   "execution_count": 6,
   "id": "6baf6405",
   "metadata": {},
   "outputs": [
    {
     "ename": "TooManyMessagesException",
     "evalue": "Too many messages!",
     "output_type": "error",
     "traceback": [
      "\u001b[0;31m---------------------------------------------------------------------------\u001b[0m",
      "\u001b[0;31mTooManyMessagesException\u001b[0m                  Traceback (most recent call last)",
      "Input \u001b[0;32mIn [6]\u001b[0m, in \u001b[0;36m<cell line: 2>\u001b[0;34m()\u001b[0m\n\u001b[1;32m      1\u001b[0m \u001b[38;5;66;03m# 3. Catch a TooManyMessagesException and print the messages \u001b[39;00m\n\u001b[1;32m      2\u001b[0m \u001b[38;5;28;01mfor\u001b[39;00m i \u001b[38;5;129;01min\u001b[39;00m \u001b[38;5;28mrange\u001b[39m(\u001b[38;5;241m0\u001b[39m, \u001b[38;5;241m20\u001b[39m):\n\u001b[0;32m----> 3\u001b[0m     \u001b[43msender\u001b[49m\u001b[38;5;241;43m.\u001b[39;49m\u001b[43msend\u001b[49m\u001b[43m(\u001b[49m\u001b[38;5;124;43mf\u001b[39;49m\u001b[38;5;124;43m'\u001b[39;49m\u001b[38;5;124;43mThis is message \u001b[39;49m\u001b[38;5;132;43;01m{\u001b[39;49;00m\u001b[43mi\u001b[49m\u001b[38;5;132;43;01m}\u001b[39;49;00m\u001b[38;5;124;43m'\u001b[39;49m\u001b[43m)\u001b[49m\n",
      "Input \u001b[0;32mIn [4]\u001b[0m, in \u001b[0;36mMessenger.send\u001b[0;34m(self, message)\u001b[0m\n\u001b[1;32m     10\u001b[0m \u001b[38;5;28;01mdef\u001b[39;00m \u001b[38;5;21msend\u001b[39m(\u001b[38;5;28mself\u001b[39m, message):\n\u001b[1;32m     11\u001b[0m     \u001b[38;5;28;01mfor\u001b[39;00m listener \u001b[38;5;129;01min\u001b[39;00m \u001b[38;5;28mself\u001b[39m\u001b[38;5;241m.\u001b[39mlisteners:\n\u001b[0;32m---> 12\u001b[0m         \u001b[43mlistener\u001b[49m\u001b[38;5;241;43m.\u001b[39;49m\u001b[43mreceive\u001b[49m\u001b[43m(\u001b[49m\u001b[43mmessage\u001b[49m\u001b[43m)\u001b[49m\n",
      "Input \u001b[0;32mIn [4]\u001b[0m, in \u001b[0;36mSaveMessages.receive\u001b[0;34m(self, message)\u001b[0m\n\u001b[1;32m     28\u001b[0m \u001b[38;5;28;01mdef\u001b[39;00m \u001b[38;5;21mreceive\u001b[39m(\u001b[38;5;28mself\u001b[39m, message):\n\u001b[1;32m     29\u001b[0m     \u001b[38;5;28;01mif\u001b[39;00m \u001b[38;5;28mlen\u001b[39m(\u001b[38;5;28mself\u001b[39m\u001b[38;5;241m.\u001b[39mmessages) \u001b[38;5;241m>\u001b[39m\u001b[38;5;241m=\u001b[39m \u001b[38;5;28mself\u001b[39m\u001b[38;5;241m.\u001b[39mmax_messages:\n\u001b[1;32m     30\u001b[0m         \u001b[38;5;66;03m# 2. Raise a TooManyMessagesException exception here\u001b[39;00m\n\u001b[0;32m---> 31\u001b[0m         \u001b[38;5;28;01mraise\u001b[39;00m TooManyMessagesException()\n\u001b[1;32m     32\u001b[0m     \u001b[38;5;28mself\u001b[39m\u001b[38;5;241m.\u001b[39mmessages\u001b[38;5;241m.\u001b[39mappend({\u001b[38;5;124m'\u001b[39m\u001b[38;5;124mmessage\u001b[39m\u001b[38;5;124m'\u001b[39m: message, \u001b[38;5;124m'\u001b[39m\u001b[38;5;124mtime\u001b[39m\u001b[38;5;124m'\u001b[39m: getCurrentTime()})\n",
      "\u001b[0;31mTooManyMessagesException\u001b[0m: Too many messages!"
     ]
    }
   ],
   "source": [
    "# 3. Catch a TooManyMessagesException and print the messages \n",
    "for i in range(0, 20):\n",
    "    sender.send(f'This is message {i}')"
   ]
  },
  {
   "cell_type": "code",
   "execution_count": null,
   "id": "59c39e74",
   "metadata": {},
   "outputs": [],
   "source": []
  }
 ],
 "metadata": {
  "kernelspec": {
   "display_name": "Python 3 (ipykernel)",
   "language": "python",
   "name": "python3"
  },
  "language_info": {
   "codemirror_mode": {
    "name": "ipython",
    "version": 3
   },
   "file_extension": ".py",
   "mimetype": "text/x-python",
   "name": "python",
   "nbconvert_exporter": "python",
   "pygments_lexer": "ipython3",
   "version": "3.9.12"
  },
  "vscode": {
   "interpreter": {
    "hash": "949777d72b0d2535278d3dc13498b2535136f6dfe0678499012e853ee9abcab1"
   }
  }
 },
 "nbformat": 4,
 "nbformat_minor": 5
}
